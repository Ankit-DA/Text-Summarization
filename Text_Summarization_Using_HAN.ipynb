{
 "cells": [
  {
   "cell_type": "markdown",
   "metadata": {},
   "source": [
    "# Hierarchical Attention Network for Document Classification"
   ]
  },
  {
   "cell_type": "markdown",
   "metadata": {},
   "source": [
    "\n",
    "# Import libraries\n"
   ]
  },
  {
   "cell_type": "code",
   "execution_count": 1,
   "metadata": {},
   "outputs": [
    {
     "name": "stderr",
     "output_type": "stream",
     "text": [
      "Using Theano backend.\n"
     ]
    },
    {
     "name": "stdout",
     "output_type": "stream",
     "text": [
      "[nltk_data] Downloading package punkt to\n",
      "[nltk_data]     C:\\Users\\leehe\\AppData\\Roaming\\nltk_data...\n",
      "[nltk_data]   Package punkt is already up-to-date!\n",
      "[nltk_data] Downloading package stopwords to\n",
      "[nltk_data]     C:\\Users\\leehe\\AppData\\Roaming\\nltk_data...\n",
      "[nltk_data]   Package stopwords is already up-to-date!\n",
      "[nltk_data] Downloading package wordnet to\n",
      "[nltk_data]     C:\\Users\\leehe\\AppData\\Roaming\\nltk_data...\n",
      "[nltk_data]   Package wordnet is already up-to-date!\n"
     ]
    }
   ],
   "source": [
    "# Import necessary libraries\n",
    "import numpy as np\n",
    "import pandas as pd\n",
    "from matplotlib import pyplot as plt\n",
    "import math\n",
    "import string\n",
    "import requests\n",
    "from bs4 import BeautifulSoup\n",
    "import re\n",
    "\n",
    "import os\n",
    "import sys\n",
    "from IPython.display import display, HTML\n",
    "import urllib\n",
    "import gzip\n",
    "\n",
    "import nltk\n",
    "from nltk import tokenize\n",
    "nltk.download('punkt')\n",
    "from nltk.corpus import stopwords\n",
    "nltk.download('stopwords')\n",
    "from nltk.stem import WordNetLemmatizer\n",
    "nltk.download('wordnet')\n",
    "\n",
    "import pip\n",
    "import theano\n",
    "import keras\n",
    "from keras.preprocessing.sequence import pad_sequences\n",
    "from keras.preprocessing.text import Tokenizer,  text_to_word_sequence\n",
    "from keras import initializers as initializers, regularizers, constraints\n",
    "from keras.layers import Dense, Dropout, Activation, Flatten, Input\n",
    "from keras.layers import Convolution2D, MaxPooling2D, Embedding, Dropout, LSTM, GRU, Bidirectional, TimeDistributed\n",
    "from keras.models import Sequential, Model, load_model\n",
    "from keras import backend as K\n",
    "from keras.engine.topology import Layer\n",
    "from keras.utils import plot_model, np_utils\n",
    "from keras.utils.np_utils import to_categorical"
   ]
  },
  {
   "cell_type": "markdown",
   "metadata": {},
   "source": [
    "# Functions"
   ]
  },
  {
   "cell_type": "code",
   "execution_count": 2,
   "metadata": {},
   "outputs": [],
   "source": [
    "def cleanString(review,stopWords):\n",
    "    lemmatizer = WordNetLemmatizer()\n",
    "    returnString = \"\"\n",
    "    sentence_token = tokenize.sent_tokenize(review)\n",
    "    idx_list = []\n",
    "    for j in range(len(sentence_token)):\n",
    "        single_sentence = tokenize.word_tokenize(sentence_token[j])\n",
    "        sentences_filtered = [(idx,lemmatizer.lemmatize(w.lower())) for idx,w in enumerate(single_sentence) \n",
    "                              if w.lower() not in stopWords and w.isalnum()]\n",
    "        idx_list.append([x[0] for x in sentences_filtered])\n",
    "        word_list = [x[1] for x in sentences_filtered]\n",
    "        returnString = returnString + ' '.join(word_list) + ' . '\n",
    "    \n",
    "    return returnString, idx_list\n",
    "\n",
    "\n",
    "def split_df(dataframe, column_name, training_split = 0.6, validation_split = 0.2, test_split = 0.2):\n",
    "    \"\"\"\n",
    "    Splits a pandas dataframe into trainingset, validationset and testset in specified ratio.\n",
    "    All sets are balanced, which means they have the same ratio for each categorie as the full set.\n",
    "    Input:   dataframe        - Pandas Dataframe, should include a column for data and one for categories\n",
    "             column_name      - Name of dataframe column which contains the categorical output values\n",
    "             training_split   - from ]0,1[, default = 0.6\n",
    "             validation_split - from ]0,1[, default = 0.2        \n",
    "             test_split       - from ]0,1[, default = 0.2\n",
    "                                Sum of all splits need to be 1\n",
    "    Output:  train            - Pandas DataFrame of trainset\n",
    "             validation       - Pandas DataFrame of validationset\n",
    "             test             - Pandas DataFrame of testset\n",
    "    \"\"\"\n",
    "    if training_split + validation_split + test_split != 1.0:\n",
    "        raise ValueError('Split paramter sum should be 1.0')\n",
    "        \n",
    "    total = len(dataframe.index)\n",
    " \n",
    "    train = dataframe.reset_index().groupby(column_name).apply(lambda x: x.sample(frac=training_split))\\\n",
    "    .reset_index(drop=True).set_index('index')\n",
    "    train = train.sample(frac=1)\n",
    "    temp_df = dataframe.drop(train.index)\n",
    "    validation = temp_df.reset_index().groupby(column_name)\\\n",
    "    .apply(lambda x: x.sample(frac=validation_split/(test_split+validation_split)))\\\n",
    "           .reset_index(drop=True).set_index('index')\n",
    "    validation = validation.sample(frac=1)\n",
    "    test = temp_df.drop(validation.index)\n",
    "    test = test.sample(frac=1)\n",
    "    \n",
    "    print('Total: ', len(dataframe))\n",
    "    print('Training: ', len(train), ', Percentage: ', len(train)/len(dataframe))\n",
    "    print('Validation: ', len(validation), ', Percentage: ', len(validation)/len(dataframe))\n",
    "    print('Test:', len(test), ', Percentage: ', len(test)/len(dataframe))\n",
    "\n",
    "    return train, validation, test\n",
    "\n",
    "def wordToSeq(text,word_index,max_sentences,max_words,max_features):\n",
    "    \"\"\"\n",
    "    Converts a string to a numpy matrix where each word is tokenized.\n",
    "    Arrays are zero-padded to max_sentences and max_words length.\n",
    "    \n",
    "    Input:    text           - string of sentences\n",
    "              word_index     - trained word_index\n",
    "              max_sentences  - maximum number of sentences allowed per document for HAN\n",
    "              max_words      - maximum number of words in each sentence for HAN\n",
    "              max_features   - maximum number of unique words to be tokenized\n",
    "    Output:   data           - Numpy Matrix of size [max_sentences x max_words]\n",
    "    \"\"\"\n",
    "    sentences = tokenize.sent_tokenize(text)\n",
    "    data = np.zeros((max_sentences, max_words), dtype='int32')\n",
    "    for j, sent in enumerate(sentences):\n",
    "        if j< max_sentences:\n",
    "            wordTokens = tokenize.word_tokenize(sent.rstrip('.'))\n",
    "            wordTokens = [w for w in wordTokens]\n",
    "            k=0\n",
    "            for _, word in enumerate(wordTokens):\n",
    "                try:\n",
    "                    if k<max_words and word_index[word]<max_features:\n",
    "                        data[j,k] = word_index[word]\n",
    "                        k=k+1\n",
    "                except:\n",
    "                    pass\n",
    "    return data\n",
    "\n",
    "def to_categorical(series,class_dict):\n",
    "    \"\"\"\n",
    "    Converts category labels to vectors,\n",
    "    Input:     series     - pandas Series containing numbered category labels\n",
    "               class_dict - dictionary of integer to category string \n",
    "                            e.g. {0: 'business', 1: 'entertainment', 2: 'politics', 3: 'sport', 4: 'tech'}\n",
    "    Output:    Array      - numpy array containing categories converted to lists\n",
    "                            e.g. 0:'business'      -> [1 0 0 0 0]\n",
    "                                 1:'entertainment' -> [0 1 0 0 0]\n",
    "                                 2:'politics'      -> [0 0 1 0 0]\n",
    "                                 3:'sport'         -> [0 0 0 1 0]\n",
    "                                 4:'tech'          -> [0 0 0 0 1]\n",
    "    \"\"\"\n",
    "    n_classes = len(class_dict)\n",
    "    new_dict = {}\n",
    "    for key,value in class_dict.items():\n",
    "        cat_list = [0] * n_classes\n",
    "        cat_list[key] = 1\n",
    "        new_dict[key] = cat_list\n",
    "    y_cat = []\n",
    "    for key,value in series.iteritems():\n",
    "        y_cat.append(new_dict[value])\n",
    "    return np.array(y_cat)"
   ]
  },
  {
   "cell_type": "markdown",
   "metadata": {},
   "source": [
    "# Attention layer"
   ]
  },
  {
   "cell_type": "code",
   "execution_count": 3,
   "metadata": {},
   "outputs": [],
   "source": [
    "class AttentionLayer(Layer):\n",
    "    \"\"\"\n",
    "    Hierarchial Attention Layer as described by Hierarchical Attention Networks for Document Classification(2016)\n",
    "    - Yang et. al.\n",
    "    Source: https://www.cs.cmu.edu/~hovy/papers/16HLT-hierarchical-attention-networks.pdf\n",
    "    Theano backend\n",
    "    \"\"\"\n",
    "    def __init__(self,attention_dim=100,return_coefficients=False,**kwargs):\n",
    "        # Initializer \n",
    "        self.supports_masking = True\n",
    "        self.return_coefficients = return_coefficients\n",
    "        self.init = initializers.get('glorot_uniform') # initializes values with uniform distribution\n",
    "        self.attention_dim = attention_dim\n",
    "        super(AttentionLayer, self).__init__(**kwargs)\n",
    "\n",
    "    def build(self, input_shape):\n",
    "        # Builds all weights\n",
    "        # W = Weight matrix, b = bias vector, u = context vector\n",
    "        assert len(input_shape) == 3\n",
    "        self.W = K.variable(self.init((input_shape[-1], self.attention_dim)),name='W')\n",
    "        self.b = K.variable(self.init((self.attention_dim, )),name='b')\n",
    "        self.u = K.variable(self.init((self.attention_dim, 1)),name='u')\n",
    "        self.trainable_weights = [self.W, self.b, self.u]\n",
    "\n",
    "        super(AttentionLayer, self).build(input_shape)\n",
    "\n",
    "    def compute_mask(self, input, input_mask=None):\n",
    "        return None\n",
    "\n",
    "    def call(self, hit, mask=None):\n",
    "        # Here, the actual calculation is done\n",
    "        uit = K.bias_add(K.dot(hit, self.W),self.b)\n",
    "        uit = K.tanh(uit)\n",
    "        \n",
    "        ait = K.dot(uit, self.u)\n",
    "        ait = K.squeeze(ait, -1)\n",
    "        ait = K.exp(ait)\n",
    "        \n",
    "        if mask is not None:\n",
    "            ait *= K.cast(mask, K.floatx())\n",
    "\n",
    "        ait /= K.cast(K.sum(ait, axis=1, keepdims=True) + K.epsilon(), K.floatx())\n",
    "        ait = K.expand_dims(ait)\n",
    "        weighted_input = hit * ait\n",
    "        \n",
    "        if self.return_coefficients:\n",
    "            return [K.sum(weighted_input, axis=1), ait]\n",
    "        else:\n",
    "            return K.sum(weighted_input, axis=1)\n",
    "\n",
    "    def compute_output_shape(self, input_shape):\n",
    "        if self.return_coefficients:\n",
    "            return [(input_shape[0], input_shape[-1]), (input_shape[0], input_shape[-1], 1)]\n",
    "        else:\n",
    "            return input_shape[0], input_shape[-1]"
   ]
  },
  {
   "cell_type": "markdown",
   "metadata": {},
   "source": [
    "# Load data\n",
    "> BBC Dataset contains 2225 news articles from the bbc news website from 2004-2005\n",
    "> The dataset was accumulated by D. Greene and P. Cunningham. \"Practical Solutions to the Problem of Diagonal Dominance in Kernel Document Clustering\", Proc. ICML 2006  \n",
    "> Source: http://mlg.ucd.ie/datasets/bbc.html  \n",
    "> Classes are: business, entertainment, politics, sport, tech\n",
    "Directory structure for the dataset shoud be as shown here:  \n",
    "  \n",
    ">Current directory:  \n",
    ">bbc:   \n",
    "...||--business  \n",
    "...||--entertainment  \n",
    "...||--politics  \n",
    "...||--sport  \n",
    "...||--tech  "
   ]
  },
  {
   "cell_type": "code",
   "execution_count": 4,
   "metadata": {
    "scrolled": false
   },
   "outputs": [],
   "source": [
    "# Current working directory(directory which contains these jupyter notebook)\n",
    "\"\"\"\n",
    "Reads the current working directory and searches for the directory 'bbc'.\n",
    "Every sub directory in directory 'bbc' is searched for .txt files.\n",
    "Every .txt file is read and saved. The sub directory name containt the .txt file is used the label.\n",
    "\"\"\"\n",
    "filepath = os.path.join(os.getcwd(),\"bbc\")\n",
    "articles = []\n",
    "category_num = {}\n",
    "count = 0\n",
    "for item in os.listdir(filepath):\n",
    "    category_num[item] = count\n",
    "    count += 1\n",
    "    if os.path.isdir(os.path.join(filepath,item)):\n",
    "        sub_dir = os.path.join(filepath,item)\n",
    "        files = [f for f in os.listdir(sub_dir) \n",
    "         if os.path.isfile(os.path.join(sub_dir,f))]\n",
    "        for file in files:\n",
    "            with open(os.path.join(sub_dir,file)) as text:\n",
    "                data = text.read()\n",
    "                paragraphs = data.split('\\n', -1)\n",
    "                title = paragraphs[0] + '. '\n",
    "                paragraphs[0] = title\n",
    "                data = ''.join(paragraphs)\n",
    "                articles.append((data,item))\n",
    "\n",
    "data_df = pd.DataFrame(data=articles,columns=['Text',\"Category\"])"
   ]
  },
  {
   "cell_type": "code",
   "execution_count": 5,
   "metadata": {
    "scrolled": false
   },
   "outputs": [
    {
     "name": "stdout",
     "output_type": "stream",
     "text": [
      "Average number of words in each sentence:  26\n",
      "Average number of sentences in each document:  17\n"
     ]
    }
   ],
   "source": [
    "\"\"\"\n",
    "Compute average number of words in each sentence and average number of sentences in each document.\n",
    "\"\"\"\n",
    "n_sent = 0\n",
    "n_words = 0\n",
    "for i in range(data_df.shape[0]):\n",
    "    sent = tokenize.sent_tokenize(data_df.loc[i,'Text'])\n",
    "    for satz in sent:\n",
    "        n_words += len(tokenize.word_tokenize(satz))\n",
    "    n_sent += len(sent)\n",
    "    \n",
    "print(\"Average number of words in each sentence: \",round(n_words/n_sent))\n",
    "print(\"Average number of sentences in each document: \", round(n_sent/data_df.shape[0]))"
   ]
  },
  {
   "cell_type": "markdown",
   "metadata": {},
   "source": [
    "# Parameters"
   ]
  },
  {
   "cell_type": "code",
   "execution_count": 6,
   "metadata": {},
   "outputs": [],
   "source": [
    "MAX_FEATURES = 200000 # maximum number of unique words that should be included in the tokenized word index\n",
    "MAX_SENTENCE_NUM = 40 # maximum number of sentences in one document\n",
    "MAX_WORD_NUM = 50     # maximum number of words in each sentence\n",
    "EMBED_SIZE = 100      # vector size of word embedding"
   ]
  },
  {
   "cell_type": "markdown",
   "metadata": {},
   "source": [
    "# Data Preprocessing"
   ]
  },
  {
   "cell_type": "code",
   "execution_count": 7,
   "metadata": {
    "scrolled": true
   },
   "outputs": [
    {
     "name": "stdout",
     "output_type": "stream",
     "text": [
      "Word list is emptyes cleaned.\n",
      "Word list is emptyes cleaned.\n",
      "Word list is emptyes cleaned.\n",
      "Word list is emptyes cleaned.\n",
      "Word list is emptyes cleaned.\n",
      "Word list is empty\n",
      "Word list is emptyes cleaned.\n",
      "Word list is emptyles cleaned.\n",
      "Word list is emptyles cleaned.\n",
      "Word list is emptyles cleaned.\n",
      "Word list is emptyles cleaned.\n",
      "Word list is empty\n",
      "Word list is empty\n",
      "Word list is empty\n",
      "Word list is emptyles cleaned.\n",
      "Word list is emptyles cleaned.\n",
      "Word list is emptyles cleaned.\n",
      "Word list is emptyles cleaned.\n",
      "Word list is emptyles cleaned.\n",
      "Word list is emptyles cleaned.\n",
      "Word list is emptyles cleaned.\n",
      "Word list is emptyles cleaned.\n",
      "Word list is emptyles cleaned.\n",
      "Word list is empty\n",
      "Word list is emptyles cleaned.\n",
      "Word list is emptyles cleaned.\n",
      "Word list is emptyles cleaned.\n",
      "Word list is emptyles cleaned.\n",
      "Word list is emptyles cleaned.\n",
      "Word list is emptyles cleaned.\n",
      "2225 of 2225 articles cleaned.\r"
     ]
    },
    {
     "data": {
      "text/html": [
       "<div>\n",
       "<style scoped>\n",
       "    .dataframe tbody tr th:only-of-type {\n",
       "        vertical-align: middle;\n",
       "    }\n",
       "\n",
       "    .dataframe tbody tr th {\n",
       "        vertical-align: top;\n",
       "    }\n",
       "\n",
       "    .dataframe thead th {\n",
       "        text-align: right;\n",
       "    }\n",
       "</style>\n",
       "<table border=\"1\" class=\"dataframe\">\n",
       "  <thead>\n",
       "    <tr style=\"text-align: right;\">\n",
       "      <th></th>\n",
       "      <th>Text</th>\n",
       "      <th>Category</th>\n",
       "      <th>Code</th>\n",
       "    </tr>\n",
       "  </thead>\n",
       "  <tbody>\n",
       "    <tr>\n",
       "      <th>0</th>\n",
       "      <td>ad sale boost time warner profit . quarterly p...</td>\n",
       "      <td>business</td>\n",
       "      <td>0</td>\n",
       "    </tr>\n",
       "    <tr>\n",
       "      <th>1</th>\n",
       "      <td>dollar gain greenspan speech . dollar hit high...</td>\n",
       "      <td>business</td>\n",
       "      <td>0</td>\n",
       "    </tr>\n",
       "    <tr>\n",
       "      <th>2</th>\n",
       "      <td>yukos unit buyer face loan claim . owner embat...</td>\n",
       "      <td>business</td>\n",
       "      <td>0</td>\n",
       "    </tr>\n",
       "    <tr>\n",
       "      <th>3</th>\n",
       "      <td>high fuel price hit ba profit . british airway...</td>\n",
       "      <td>business</td>\n",
       "      <td>0</td>\n",
       "    </tr>\n",
       "    <tr>\n",
       "      <th>4</th>\n",
       "      <td>pernod takeover talk lift domecq . share uk dr...</td>\n",
       "      <td>business</td>\n",
       "      <td>0</td>\n",
       "    </tr>\n",
       "  </tbody>\n",
       "</table>\n",
       "</div>"
      ],
      "text/plain": [
       "                                                Text  Category  Code\n",
       "0  ad sale boost time warner profit . quarterly p...  business     0\n",
       "1  dollar gain greenspan speech . dollar hit high...  business     0\n",
       "2  yukos unit buyer face loan claim . owner embat...  business     0\n",
       "3  high fuel price hit ba profit . british airway...  business     0\n",
       "4  pernod takeover talk lift domecq . share uk dr...  business     0"
      ]
     },
     "execution_count": 7,
     "metadata": {},
     "output_type": "execute_result"
    }
   ],
   "source": [
    "\"\"\"\n",
    "Cleans raw data using the cleanString() function from above.\n",
    "English stopwords are used from nltk library.\n",
    "Cleaned dataset is saved in 'data_cleaned' pandas dataframe.\n",
    "Labels are converted to numbers,\n",
    "\"\"\"\n",
    "articles = []\n",
    "n = data_df['Text'].shape[0]\n",
    "col_number = data_df.columns.get_loc('Text')\n",
    "stopWords = set(stopwords.words('english'))\n",
    "data_cleaned = data_df.copy()\n",
    "for i in range(n):\n",
    "    temp_string,idx_string = cleanString(data_df.iloc[i,col_number],stopWords)\n",
    "    articles.append(temp_string)\n",
    "    print(str(i+1)+' of '+str(n)+\" articles cleaned.\",end='\\r')\n",
    "    \n",
    "data_cleaned.loc[:,'Text'] = pd.Series(articles,index=data_df.index)\n",
    "data_cleaned.loc[:,'Category'] = pd.Categorical(data_cleaned.Category)\n",
    "data_cleaned['Code'] = data_cleaned.Category.cat.codes\n",
    "categoryToCode = dict( enumerate(data_cleaned['Category'].cat.categories))\n",
    "\n",
    "data_cleaned.head()"
   ]
  },
  {
   "cell_type": "markdown",
   "metadata": {
    "scrolled": true
   },
   "source": [
    "# Tokenization"
   ]
  },
  {
   "cell_type": "code",
   "execution_count": 8,
   "metadata": {},
   "outputs": [],
   "source": [
    "\"\"\"\n",
    "Using the keras Tokenizer class a word index is built.\n",
    "The most 'MAX_FEATURES' used words are tokenized to a number.\n",
    "this dictionary is saved in word_index\n",
    "\"\"\"\n",
    "texts = []\n",
    "n = data_cleaned['Text'].shape[0]\n",
    "for i in range(n):\n",
    "    s = data_cleaned['Text'].iloc[i]\n",
    "    s = ' '.join([word.strip(string.punctuation) for word in s.split() if word.strip(string.punctuation) is not \"\"])\n",
    "    texts.append(s)\n",
    "tokenizer = Tokenizer(num_words=MAX_FEATURES,lower=True, oov_token=None)\n",
    "tokenizer.fit_on_texts(texts)\n",
    "word_index = tokenizer.word_index"
   ]
  },
  {
   "cell_type": "markdown",
   "metadata": {},
   "source": [
    "## GloVe Embedding Matrix"
   ]
  },
  {
   "cell_type": "code",
   "execution_count": 9,
   "metadata": {},
   "outputs": [
    {
     "name": "stdout",
     "output_type": "stream",
     "text": [
      "Found 400000 word vectors.\n",
      "Total absent words are 1409 which is 5.57 % of total words\n",
      "Words with 0 or less mentions 0 which is 0.00 % of total words\n"
     ]
    }
   ],
   "source": [
    "\"\"\"\n",
    "A pre-trained word to vector is used from GloVe by Pennington et. al.\n",
    "Source: https://nlp.stanford.edu/projects/glove/\n",
    "The data was trained on wikipedia articles. Each word is described by a 100d vector.\n",
    "\"\"\"\n",
    "\n",
    "# Load word vectors from pre-trained dataset\n",
    "embeddings_index = {}\n",
    "f = open(os.path.join(os.getcwd(), 'glove.6B.100d.txt'),encoding='UTF-8')\n",
    "for line in f:\n",
    "    values = line.split()\n",
    "    word = values[0]\n",
    "    coefs = np.asarray(values[1:], dtype='float32')\n",
    "    embeddings_index[word] = coefs\n",
    "f.close()\n",
    "print('Found %s word vectors.' % len(embeddings_index))\n",
    "\n",
    "# Search words in our word index in the pre-trained dataset\n",
    "# Create an embedding matrix for our bbc dataset\n",
    "min_wordCount = 0\n",
    "absent_words = 0\n",
    "small_words = 0\n",
    "embedding_matrix = np.zeros((len(word_index) + 1, EMBED_SIZE))\n",
    "word_counts = tokenizer.word_counts\n",
    "for word, i in word_index.items():\n",
    "    if word_counts[word] > min_wordCount:\n",
    "        embedding_vector = embeddings_index.get(word)\n",
    "        if embedding_vector is not None:\n",
    "            # words not found in embedding index will be all-zeros.\n",
    "            embedding_matrix[i] = embedding_vector\n",
    "        else:\n",
    "            absent_words += 1\n",
    "    else:\n",
    "        small_words += 1\n",
    "print('Total absent words are', absent_words, 'which is', \"%0.2f\" % (absent_words * 100 / len(word_index)),\n",
    "      '% of total words')\n",
    "print('Words with '+str(min_wordCount)+' or less mentions', small_words, 'which is', \"%0.2f\" % (small_words * 100 / len(word_index)),\n",
    "      '% of total words')"
   ]
  },
  {
   "cell_type": "markdown",
   "metadata": {},
   "source": [
    "# Splitting Data Set"
   ]
  },
  {
   "cell_type": "code",
   "execution_count": 10,
   "metadata": {
    "scrolled": true
   },
   "outputs": [
    {
     "name": "stdout",
     "output_type": "stream",
     "text": [
      "{0: 'business', 1: 'entertainment', 2: 'politics', 3: 'sport', 4: 'tech'}\n",
      "Total:  2225\n",
      "Training:  1781 , Percentage:  0.8004494382022472\n",
      "Validation:  222 , Percentage:  0.0997752808988764\n",
      "Test: 222 , Percentage:  0.0997752808988764\n"
     ]
    }
   ],
   "source": [
    "\"\"\"\n",
    "Split Pandas Dataframe into train, validation and testset.\n",
    "Convert data to keras conforming form\n",
    "\"\"\"\n",
    "print(categoryToCode)\n",
    "train, validation, test = split_df(data_cleaned, 'Code',0.8,0.1,0.1)\n",
    "\n",
    "#Training\n",
    "paras = []\n",
    "for i in range(train['Text'].shape[0]):\n",
    "    sequence = wordToSeq(train['Text'].iloc[i],word_index,MAX_SENTENCE_NUM,MAX_WORD_NUM,MAX_FEATURES)\n",
    "    paras.append(sequence)\n",
    "x_train = np.array(paras)\n",
    "y_train = to_categorical(train['Code'],categoryToCode)\n",
    "\n",
    "#Validation\n",
    "paras = []\n",
    "for i in range(validation['Text'].shape[0]):\n",
    "    sequence = wordToSeq(validation['Text'].iloc[i],word_index,MAX_SENTENCE_NUM,MAX_WORD_NUM,MAX_FEATURES)\n",
    "    paras.append(sequence)\n",
    "x_val = np.array(paras)\n",
    "y_val = to_categorical(validation['Code'],categoryToCode)\n",
    "\n",
    "#Test\n",
    "paras = []\n",
    "for i in range(test['Text'].shape[0]):\n",
    "    sequence = wordToSeq(test['Text'].iloc[i],word_index,MAX_SENTENCE_NUM,MAX_WORD_NUM,MAX_FEATURES)\n",
    "    paras.append(sequence)\n",
    "x_test = np.array(paras)\n",
    "y_test = to_categorical(test['Code'],categoryToCode)"
   ]
  },
  {
   "cell_type": "markdown",
   "metadata": {},
   "source": [
    "# HAN MODEL"
   ]
  },
  {
   "cell_type": "code",
   "execution_count": 11,
   "metadata": {},
   "outputs": [
    {
     "name": "stdout",
     "output_type": "stream",
     "text": [
      "_________________________________________________________________\n",
      "Layer (type)                 Output Shape              Param #   \n",
      "=================================================================\n",
      "word_input (InputLayer)      (None, 50)                0         \n",
      "_________________________________________________________________\n",
      "word_embedding (Embedding)   (None, 50, 100)           2531300   \n",
      "_________________________________________________________________\n",
      "word_gru (Bidirectional)     (None, 50, 100)           45300     \n",
      "_________________________________________________________________\n",
      "word_dense (Dense)           (None, 50, 100)           10100     \n",
      "_________________________________________________________________\n",
      "word_attention (AttentionLay [(None, 100), (None, 100, 10200     \n",
      "=================================================================\n",
      "Total params: 2,596,900\n",
      "Trainable params: 65,600\n",
      "Non-trainable params: 2,531,300\n",
      "_________________________________________________________________\n",
      "None\n",
      "_________________________________________________________________\n",
      "Layer (type)                 Output Shape              Param #   \n",
      "=================================================================\n",
      "sent_input (InputLayer)      (None, 40, 50)            0         \n",
      "_________________________________________________________________\n",
      "sent_linking (TimeDistribute (None, 40, 100)           2596900   \n",
      "_________________________________________________________________\n",
      "sent_gru (Bidirectional)     (None, 40, 100)           45300     \n",
      "_________________________________________________________________\n",
      "sent_dense (Dense)           (None, 40, 100)           10100     \n",
      "_________________________________________________________________\n",
      "sent_attention (AttentionLay [(None, 100), (None, 100, 10200     \n",
      "_________________________________________________________________\n",
      "sent_dropout (Dropout)       (None, 100)               0         \n",
      "_________________________________________________________________\n",
      "output (Dense)               (None, 5)                 505       \n",
      "=================================================================\n",
      "Total params: 2,663,005\n",
      "Trainable params: 131,705\n",
      "Non-trainable params: 2,531,300\n",
      "_________________________________________________________________\n",
      "None\n"
     ]
    }
   ],
   "source": [
    "\"\"\"\n",
    "Create Keras functional model for hierarchical attention network\n",
    "\"\"\"\n",
    "embedding_layer = Embedding(len(word_index) + 1,EMBED_SIZE,weights=[embedding_matrix], \n",
    "                            input_length=MAX_WORD_NUM, trainable=False,name='word_embedding')\n",
    "\n",
    "# Words level attention model\n",
    "word_input = Input(shape=(MAX_WORD_NUM,), dtype='int32',name='word_input')\n",
    "word_sequences = embedding_layer(word_input)\n",
    "word_gru = Bidirectional(GRU(50, return_sequences=True),name='word_gru')(word_sequences)\n",
    "word_dense = Dense(100, activation='relu', name='word_dense')(word_gru) \n",
    "word_att,word_coeffs = AttentionLayer(EMBED_SIZE,True,name='word_attention')(word_dense)\n",
    "wordEncoder = Model(inputs = word_input,outputs = word_att)\n",
    "\n",
    "# Sentence level attention model\n",
    "sent_input = Input(shape=(MAX_SENTENCE_NUM,MAX_WORD_NUM), dtype='int32',name='sent_input')\n",
    "sent_encoder = TimeDistributed(wordEncoder,name='sent_linking')(sent_input)\n",
    "sent_gru = Bidirectional(GRU(50, return_sequences=True),name='sent_gru')(sent_encoder)\n",
    "sent_dense = Dense(100, activation='relu', name='sent_dense')(sent_gru) \n",
    "sent_att,sent_coeffs = AttentionLayer(EMBED_SIZE,return_coefficients=True,name='sent_attention')(sent_dense)\n",
    "sent_drop = Dropout(0.5,name='sent_dropout')(sent_att)\n",
    "preds = Dense(5, activation='softmax',name='output')(sent_drop)\n",
    "\n",
    "# Model compile\n",
    "model = Model(sent_input, preds)\n",
    "model.compile(loss='categorical_crossentropy',optimizer='adam',metrics=['acc'])\n",
    "print(wordEncoder.summary())\n",
    "print(model.summary())\n",
    "\n",
    "plot_model(model, to_file='model.png',show_shapes=True)\n",
    "plot_model(wordEncoder, to_file='wordEncoder.png',show_shapes=True)"
   ]
  },
  {
   "cell_type": "markdown",
   "metadata": {},
   "source": [
    "## Train"
   ]
  },
  {
   "cell_type": "code",
   "execution_count": 12,
   "metadata": {
    "scrolled": false
   },
   "outputs": [
    {
     "name": "stdout",
     "output_type": "stream",
     "text": [
      "Train on 1781 samples, validate on 222 samples\n",
      "Epoch 1/7\n",
      "1781/1781 [==============================] - 78s 44ms/step - loss: 1.1620 - acc: 0.5188 - val_loss: 0.4292 - val_acc: 0.9099\n",
      "Epoch 2/7\n",
      "1781/1781 [==============================] - 76s 43ms/step - loss: 0.2949 - acc: 0.9085 - val_loss: 0.1181 - val_acc: 0.9595\n",
      "Epoch 3/7\n",
      "1781/1781 [==============================] - 75s 42ms/step - loss: 0.1391 - acc: 0.9624 - val_loss: 0.0763 - val_acc: 0.9820\n",
      "Epoch 4/7\n",
      "1781/1781 [==============================] - 75s 42ms/step - loss: 0.1082 - acc: 0.9657 - val_loss: 0.0777 - val_acc: 0.9730\n",
      "Epoch 5/7\n",
      "1781/1781 [==============================] - 77s 43ms/step - loss: 0.0843 - acc: 0.9742 - val_loss: 0.0614 - val_acc: 0.9730\n",
      "Epoch 6/7\n",
      "1781/1781 [==============================] - 81s 45ms/step - loss: 0.0732 - acc: 0.9781 - val_loss: 0.0744 - val_acc: 0.9685\n",
      "Epoch 7/7\n",
      "1781/1781 [==============================] - 75s 42ms/step - loss: 0.0599 - acc: 0.9792 - val_loss: 0.0690 - val_acc: 0.9640\n",
      "dict_keys(['val_loss', 'val_acc', 'loss', 'acc'])\n"
     ]
    },
    {
     "data": {
      "image/png": "[encoded data removed]",
      "text/plain": [
       "<Figure size 432x288 with 1 Axes>"
      ]
     },
     "metadata": {},
     "output_type": "display_data"
    },
    {
     "data": {
      "image/png": "[encoded data removed]",
      "text/plain": [
       "<Figure size 432x288 with 1 Axes>"
      ]
     },
     "metadata": {},
     "output_type": "display_data"
    }
   ],
   "source": [
    "history = model.fit(x_train, y_train, validation_data=(x_val, y_val), epochs=7, batch_size=50)\n",
    "\n",
    "print(history.history.keys())\n",
    "# Plot of accuracy in each epoch\n",
    "plt.plot(history.history['acc'])\n",
    "plt.plot(history.history['val_acc'])\n",
    "plt.title('model accuracy')\n",
    "plt.ylabel('accuracy')\n",
    "plt.xlabel('epoch')\n",
    "plt.legend(['train', 'validation'], loc='upper left')\n",
    "plt.show()\n",
    "# Plot of loss in each epoch\n",
    "plt.plot(history.history['loss'])\n",
    "plt.plot(history.history['val_loss'])\n",
    "plt.title('model loss')\n",
    "plt.ylabel('loss')\n",
    "plt.xlabel('epoch')\n",
    "plt.legend(['train', 'validation'], loc='upper left')\n",
    "plt.show()"
   ]
  },
  {
   "cell_type": "markdown",
   "metadata": {},
   "source": [
    "## Test"
   ]
  },
  {
   "cell_type": "code",
   "execution_count": 13,
   "metadata": {},
   "outputs": [
    {
     "name": "stdout",
     "output_type": "stream",
     "text": [
      "222/222 [==============================] - 3s 14ms/step\n",
      "Test set accuracy:  0.954954954954955\n",
      "Test set loss:  0.12532140176978196\n"
     ]
    }
   ],
   "source": [
    "loss, acc = model.evaluate(x_test,y_test)\n",
    "print(\"Test set accuracy: \",acc)\n",
    "print(\"Test set loss: \", loss)"
   ]
  },
  {
   "cell_type": "markdown",
   "metadata": {},
   "source": [
    "## Save Model"
   ]
  },
  {
   "cell_type": "code",
   "execution_count": 14,
   "metadata": {
    "scrolled": true
   },
   "outputs": [],
   "source": [
    "# Saves the model in a hdf5 file\n",
    "model.save('Model_7epoch.h5')  "
   ]
  },
  {
   "cell_type": "markdown",
   "metadata": {},
   "source": [
    "# Application\n",
    "> Trained HAN model is used to classify new BBC news articles, as well as creating a short summary of the article using sentence attention weights.  \n",
    "> Words with most attention are used as new tags\n",
    "> Database can be created with tagges, summarized news articles"
   ]
  },
  {
   "cell_type": "code",
   "execution_count": 24,
   "metadata": {},
   "outputs": [],
   "source": [
    "# Load model from saved hdf5 file\n",
    "model = load_model('Model_7epoch.h5',custom_objects={'AttentionLayer': AttentionLayer})\n",
    "\n",
    "articleDB = pd.DataFrame(columns = ['Title','Summary','Text','Category','Tags'])"
   ]
  },
  {
   "cell_type": "markdown",
   "metadata": {},
   "source": [
    "## Input text\n",
    "> This scrapes the website and saves the title and text.  \n",
    "> Text is then cleaned as described earlier and converted to a sequence of numbers."
   ]
  },
  {
   "cell_type": "code",
   "execution_count": 49,
   "metadata": {
    "scrolled": false
   },
   "outputs": [
    {
     "name": "stdout",
     "output_type": "stream",
     "text": [
      "Women in film: 'We're living in the dark ages when it comes to representation'\n",
      "That's the norm when it comes to Hollywood's biggest films, according to US campaign group, Time's Up. They've shared figures which reveal only 4% of the biggest earning films from the past decade have been directed by women. And now they're calling on Hollywood studios and stars to change that. Time's Up has launched the #4percentchallenge, and stars Tessa Thompson, Brie Larson and Bryce Dallas Howard are among the names to lend their support. Time's Up's campaign to draw attention to this inequality has been welcomed by rising female film talent here in the UK. \"Four percent is a pretty depressing figure, but things like this challenge are absolutely necessary,\" British director Georgia Parris told Radio 1 Newsbeat. She premiered her first full-length film, Mari, at the BFI Film Festival. \"It's that age-old problem that women are hired on experience and men are hired on potential. \"So if we're not being given the opportunities to gain that experience then how is the problem ever going to change?\" But she says the success of 2017's Wonder Woman is an early sign that things are starting to change. \"I think there's a sense that women tend to direct sensitive, female-based issue films but these are the ones that tend to cost less money,\" she adds. \"But you look at something like Wonder Woman and that's done hugely well. \"We're starting to see those snippets of women being trusted with bigger budgets.\" Movements like the #4percentchallenge are inspiring confidence in future movie-makers, such as film student and aspiring director Beatrice Sutcliffe. \"We're living in the dark ages when it comes to representation in film and the films that are being made,\" Beatrice tells Newsbeat.  \"We need to try and give women more of a spotlight because it's so unequal.\" \"I'm passionate about breaking through that.\" Alongside a more \"truthful depiction of women,\" Beatrice says she wants to see an end to male-directed films using women's bodies as a punchline. \"I want to see a film where a woman actually has her period and it doesn't stop her,\" she says. \"That's raw, that's real, that's what women are going through. At the end of the day, when a woman is having a period in a film, it tends to be as a comical gag. \"A female director can bring that raw, truthful depiction of women.\" Time's Up claims movies directed by women are more inclusive for girls and women, female characters over 40 and racial and ethnic groups. \"Women directors also hire other women in key behind-the-camera roles,\" it says in a statement.  \"The aim is to humanize production processes so that all groups can thrive at work in safe contexts.\" They're asking actors to commit to working with a female director in the next 18 months. Already, a number of well known actors have signed up to support the campaign. A list of supporters on the Time's Up's website includes Amy Schumer, Armie Hammer, Jordan Peele, Jussie Smollett, Reese Witherspoon and Zazie Beetz - among many others. Efforts have been made in the UK to raise female representation, such as 38% of the films screened at the 2018 BFI Film Festival (a major London event) being directed by women. Film studios such as JJ Abrams' Bad Robot, Universal and Disney have also signed up to support the #4percentchallenge, and Disney CEO Bob Iger claims his company is already making big steps toward better female representation in the director's chair. Many have contacted us about accepting the 4% challenge, but I’m proud to say 40% of @DisneyStudios’ upcoming movie slate is being directed by women and we are striving for more! End of Twitter post  by @RobertIger Among comments of support for Disney's stance, some say they just want studios to \"hire the best person for the job,\" regardless of gender. But Georgia says storytellers need to represent society more than this viewpoint suggests. \"Men can direct beautifully - sensitive and feminine stories as well. But at the end of the day, if we're only ever given one viewpoint, a male viewpoint, that is not representative of the world that we live in,\" she says. \"We just have to have a variation of women telling those stories as well to get a more equal balance.\" Disney's next big Marvel movie, Captain Marvel, has two directors - one woman, one man (Anna Boden and Ryan Fleck). End of Youtube post  by Marvel Entertainment \"With Captain Marvel coming, I think it's a really important time for female directors, especially those who want to work in the big mainstream Hollywood stuff to come forward and really fight to do that work,\" says Beatrice. Many of Disney's biggest franchise films currently in production - such as Avengers: Endgame, Aladdin, Toy Story 4, Star Wars IX and The Lion King are all directed by men. However, other Disney films such as Marvel films The Eternals and Black Widow and the Mulan remake all have female directors. Follow Newsbeat on Instagram, Facebook and Twitter.  Listen to Newsbeat live at 12:45 and 17:45 every weekday on BBC Radio 1 and 1Xtra - if you miss us you can listen back here. \n"
     ]
    }
   ],
   "source": [
    "# Input url of interested article\n",
    "#article_url = 'https://www.bbc.com/news/business-47068401'\n",
    "#article_url = 'https://www.bbc.com/news/technology-47071334'\n",
    "#article_url = 'https://www.bbc.com/news/entertainment-arts-39083228'\n",
    "article_url = 'https://www.bbc.com/news/newsbeat-47069144'\n",
    "page = requests.get(article_url) \n",
    "soup = BeautifulSoup(page.content,'lxml')\n",
    "\n",
    "# Get title\n",
    "articlebody = soup.find(\"div\", {\"class\": \"story-body\"})\n",
    "article_title = soup.find(\"h1\",{\"class\":\"story-body__h1\"}).text\n",
    "print(article_title)\n",
    "\n",
    "# Get news article\n",
    "story = soup.find(\"div\", {\"class\": \"story-body__inner\"}).findAll('p')\n",
    "article = []\n",
    "for p in story:\n",
    "    p_class = p.get('class')\n",
    "    if p_class:\n",
    "        no_twite = [x for x in p_class if \"twite\" not in x]\n",
    "        no_intro = [x for x in p_class if \"story-body__introduction\" not in x]\n",
    "        if no_twite and no_intro:\n",
    "            article.append(p.text)\n",
    "    else:\n",
    "        article.append(p.text)\n",
    "article = ' '.join(article)\n",
    "print(article)\n",
    "\n",
    "# Clean article with pre described rules\n",
    "article_cleaned,idx_list = cleanString(article,stopWords)\n",
    "input_array = wordToSeq(article_cleaned,word_index,MAX_SENTENCE_NUM,MAX_WORD_NUM,MAX_FEATURES)"
   ]
  },
  {
   "cell_type": "markdown",
   "metadata": {},
   "source": [
    "## Sentence Attention Model\n",
    "> Model to get attention weights for each sentence"
   ]
  },
  {
   "cell_type": "code",
   "execution_count": 50,
   "metadata": {},
   "outputs": [],
   "source": [
    "sent_att_weights = Model(inputs=sent_input,outputs=sent_coeffs)\n",
    "output_array = sent_att_weights.predict(np.resize(input_array,(1,MAX_SENTENCE_NUM,MAX_WORD_NUM)))\n",
    "\n",
    "# Get n sentences with most attention in document\n",
    "n_sentences = 5\n",
    "sent_index = output_array.flatten().argsort()[-n_sentences:]\n",
    "sent_index = np.sort(sent_index)\n",
    "sent_index = sent_index.tolist()\n",
    "\n",
    "# Create summary using n sentences\n",
    "sent_list = tokenize.sent_tokenize(article)\n",
    "summary = [sent_list[i] for i in sent_index]"
   ]
  },
  {
   "cell_type": "markdown",
   "metadata": {},
   "source": [
    "### Word Attention Model\n",
    "> Model to get attention weights for each word..  \n",
    "> A new model is build to get the normally hidden word attention weights."
   ]
  },
  {
   "cell_type": "code",
   "execution_count": 51,
   "metadata": {},
   "outputs": [],
   "source": [
    "def wordAttentionWeights(sequenceSentence,weights):\n",
    "    \"\"\"\n",
    "    The same function as the AttentionLayer class.\n",
    "    \"\"\"\n",
    "    uit = np.dot(sequenceSentence, weights[0]) + weights[1]\n",
    "    uit = np.tanh(uit)\n",
    "\n",
    "    ait = np.dot(uit, weights[2])\n",
    "    ait = np.squeeze(ait)\n",
    "    ait = np.exp(ait)\n",
    "    ait /= np.sum(ait)\n",
    "    \n",
    "    return ait\n",
    "\n",
    "# Summary as input for word attention\n",
    "summary_cleaned, summary_idx = cleanString(' '.join(summary),stopWords)\n",
    "word_input_array = wordToSeq(summary_cleaned,word_index,MAX_SENTENCE_NUM,MAX_WORD_NUM,MAX_FEATURES)\n",
    "\n",
    "# Create model from word input to output of dense layer right before the attention layer\n",
    "hidden_word_encoding_out = Model(inputs=wordEncoder.input, outputs=wordEncoder.get_layer('word_dense').output)\n",
    "# Load weights from trained attention layer\n",
    "word_context = wordEncoder.get_layer('word_attention').get_weights()\n",
    "# Compute output of dense layer\n",
    "hidden_word_encodings = hidden_word_encoding_out.predict(word_input_array)\n",
    "# Compute context vector using output of dense layer\n",
    "ait = wordAttentionWeights(hidden_word_encodings,word_context)"
   ]
  },
  {
   "cell_type": "code",
   "execution_count": 52,
   "metadata": {
    "scrolled": true
   },
   "outputs": [],
   "source": [
    "# Get n words with most attention in document\n",
    "n_words = 5\n",
    "\n",
    "flattenlist = []\n",
    "words_unpadded = []\n",
    "for idx,sent in enumerate(tokenize.sent_tokenize(summary_cleaned)):\n",
    "    if(idx>=MAX_SENTENCE_NUM):\n",
    "        break\n",
    "    attword_list = tokenize.word_tokenize(sent.rstrip('.'))\n",
    "    ait_short = (1000*ait[idx][:len(attword_list)]).tolist()\n",
    "    words_unpadded.extend(ait_short)\n",
    "    flattenlist.extend(attword_list)\n",
    "\n",
    "    \n",
    "words_unpadded = np.array(words_unpadded)\n",
    "sorted_wordlist = [flattenlist[i] for i in words_unpadded.argsort()]\n",
    "\n",
    "mostAtt_words = []\n",
    "i = 0\n",
    "for word in reversed(sorted_wordlist):\n",
    "    if word not in mostAtt_words:\n",
    "        mostAtt_words.append(word)\n",
    "        i += 1\n",
    "    if(i>=n_words):\n",
    "        break"
   ]
  },
  {
   "cell_type": "markdown",
   "metadata": {},
   "source": [
    "# Output"
   ]
  },
  {
   "cell_type": "code",
   "execution_count": 55,
   "metadata": {},
   "outputs": [
    {
     "data": {
      "text/html": [
       "<h2>Women in film: 'We're living in the dark ages when it comes to representation'</h2>"
      ],
      "text/plain": [
       "<IPython.core.display.HTML object>"
      ]
     },
     "metadata": {},
     "output_type": "display_data"
    },
    {
     "name": "stdout",
     "output_type": "stream",
     "text": [
      "entertainment ['bfi', 'film', 'directed', 'event', 'screened']\n"
     ]
    },
    {
     "data": {
      "text/html": [
       "<h5>Summary of article:</h5>"
      ],
      "text/plain": [
       "<IPython.core.display.HTML object>"
      ]
     },
     "metadata": {},
     "output_type": "display_data"
    },
    {
     "data": {
      "text/plain": [
       "\"They've shared figures which reveal only 4% of the biggest earning films from the past decade have been directed by women. And now they're calling on Hollywood studios and stars to change that. Time's Up's campaign to draw attention to this inequality has been welcomed by rising female film talent here in the UK. Time's Up claims movies directed by women are more inclusive for girls and women, female characters over 40 and racial and ethnic groups. Efforts have been made in the UK to raise female representation, such as 38% of the films screened at the 2018 BFI Film Festival (a major London event) being directed by women.\""
      ]
     },
     "metadata": {},
     "output_type": "display_data"
    },
    {
     "data": {
      "text/html": [
       "<h5>Full text:</h5>"
      ],
      "text/plain": [
       "<IPython.core.display.HTML object>"
      ]
     },
     "metadata": {},
     "output_type": "display_data"
    },
    {
     "data": {
      "text/plain": [
       "'That\\'s the norm when it comes to Hollywood\\'s biggest films, according to US campaign group, Time\\'s Up. They\\'ve shared figures which reveal only 4% of the biggest earning films from the past decade have been directed by women. And now they\\'re calling on Hollywood studios and stars to change that. Time\\'s Up has launched the #4percentchallenge, and stars Tessa Thompson, Brie Larson and Bryce Dallas Howard are among the names to lend their support. Time\\'s Up\\'s campaign to draw attention to this inequality has been welcomed by rising female film talent here in the UK. \"Four percent is a pretty depressing figure, but things like this challenge are absolutely necessary,\" British director Georgia Parris told Radio 1 Newsbeat. She premiered her first full-length film, Mari, at the BFI Film Festival. \"It\\'s that age-old problem that women are hired on experience and men are hired on potential. \"So if we\\'re not being given the opportunities to gain that experience then how is the problem ever going to change?\" But she says the success of 2017\\'s Wonder Woman is an early sign that things are starting to change. \"I think there\\'s a sense that women tend to direct sensitive, female-based issue films but these are the ones that tend to cost less money,\" she adds. \"But you look at something like Wonder Woman and that\\'s done hugely well. \"We\\'re starting to see those snippets of women being trusted with bigger budgets.\" Movements like the #4percentchallenge are inspiring confidence in future movie-makers, such as film student and aspiring director Beatrice Sutcliffe. \"We\\'re living in the dark ages when it comes to representation in film and the films that are being made,\" Beatrice tells Newsbeat.  \"We need to try and give women more of a spotlight because it\\'s so unequal.\" \"I\\'m passionate about breaking through that.\" Alongside a more \"truthful depiction of women,\" Beatrice says she wants to see an end to male-directed films using women\\'s bodies as a punchline. \"I want to see a film where a woman actually has her period and it doesn\\'t stop her,\" she says. \"That\\'s raw, that\\'s real, that\\'s what women are going through. At the end of the day, when a woman is having a period in a film, it tends to be as a comical gag. \"A female director can bring that raw, truthful depiction of women.\" Time\\'s Up claims movies directed by women are more inclusive for girls and women, female characters over 40 and racial and ethnic groups. \"Women directors also hire other women in key behind-the-camera roles,\" it says in a statement.  \"The aim is to humanize production processes so that all groups can thrive at work in safe contexts.\" They\\'re asking actors to commit to working with a female director in the next 18 months. Already, a number of well known actors have signed up to support the campaign. A list of supporters on the Time\\'s Up\\'s website includes Amy Schumer, Armie Hammer, Jordan Peele, Jussie Smollett, Reese Witherspoon and Zazie Beetz - among many others. Efforts have been made in the UK to raise female representation, such as 38% of the films screened at the 2018 BFI Film Festival (a major London event) being directed by women. Film studios such as JJ Abrams\\' Bad Robot, Universal and Disney have also signed up to support the #4percentchallenge, and Disney CEO Bob Iger claims his company is already making big steps toward better female representation in the director\\'s chair. Many have contacted us about accepting the 4% challenge, but I’m proud to say 40% of @DisneyStudios’ upcoming movie slate is being directed by women and we are striving for more! End of Twitter post  by @RobertIger Among comments of support for Disney\\'s stance, some say they just want studios to \"hire the best person for the job,\" regardless of gender. But Georgia says storytellers need to represent society more than this viewpoint suggests. \"Men can direct beautifully - sensitive and feminine stories as well. But at the end of the day, if we\\'re only ever given one viewpoint, a male viewpoint, that is not representative of the world that we live in,\" she says. \"We just have to have a variation of women telling those stories as well to get a more equal balance.\" Disney\\'s next big Marvel movie, Captain Marvel, has two directors - one woman, one man (Anna Boden and Ryan Fleck). End of Youtube post  by Marvel Entertainment \"With Captain Marvel coming, I think it\\'s a really important time for female directors, especially those who want to work in the big mainstream Hollywood stuff to come forward and really fight to do that work,\" says Beatrice. Many of Disney\\'s biggest franchise films currently in production - such as Avengers: Endgame, Aladdin, Toy Story 4, Star Wars IX and The Lion King are all directed by men. However, other Disney films such as Marvel films The Eternals and Black Widow and the Mulan remake all have female directors. Follow Newsbeat on Instagram, Facebook and Twitter.  Listen to Newsbeat live at 12:45 and 17:45 every weekday on BBC Radio 1 and 1Xtra - if you miss us you can listen back here. '"
      ]
     },
     "metadata": {},
     "output_type": "display_data"
    }
   ],
   "source": [
    "#Category\n",
    "res = model.predict(np.expand_dims(input_array,axis=0)).flatten()\n",
    "cat = categoryToCode[np.argmax(res.flatten())]\n",
    "\n",
    "# Display information\n",
    "display(HTML('<h2>'+article_title.rstrip('.')+'</h2>'))\n",
    "print(cat,mostAtt_words)\n",
    "\n",
    "display(HTML('<h5>Summary of article:</h5>'))\n",
    "display(' '.join(summary))\n",
    "\n",
    "display(HTML('<h5>Full text:</h5>'))\n",
    "display(article)"
   ]
  },
  {
   "cell_type": "markdown",
   "metadata": {},
   "source": [
    "## Article Database"
   ]
  },
  {
   "cell_type": "code",
   "execution_count": 54,
   "metadata": {},
   "outputs": [
    {
     "data": {
      "text/html": [
       "<div>\n",
       "<style scoped>\n",
       "    .dataframe tbody tr th:only-of-type {\n",
       "        vertical-align: middle;\n",
       "    }\n",
       "\n",
       "    .dataframe tbody tr th {\n",
       "        vertical-align: top;\n",
       "    }\n",
       "\n",
       "    .dataframe thead th {\n",
       "        text-align: right;\n",
       "    }\n",
       "</style>\n",
       "<table border=\"1\" class=\"dataframe\">\n",
       "  <thead>\n",
       "    <tr style=\"text-align: right;\">\n",
       "      <th></th>\n",
       "      <th>Title</th>\n",
       "      <th>Summary</th>\n",
       "      <th>Text</th>\n",
       "      <th>Category</th>\n",
       "      <th>Tags</th>\n",
       "    </tr>\n",
       "  </thead>\n",
       "  <tbody>\n",
       "    <tr>\n",
       "      <th>0</th>\n",
       "      <td>Holy recasting, Batman!</td>\n",
       "      <td>Affleck had been due to direct as well as star...</td>\n",
       "      <td>Holy recasting, Batman! The search is on for a...</td>\n",
       "      <td>entertainment</td>\n",
       "      <td>[upcoming, star, sequel, 1960s, tim]</td>\n",
       "    </tr>\n",
       "    <tr>\n",
       "      <th>1</th>\n",
       "      <td>Facebook said participating teens had provided...</td>\n",
       "      <td>It has also emerged that Google ran a similar ...</td>\n",
       "      <td>Facebook said participating teens had provided...</td>\n",
       "      <td>tech</td>\n",
       "      <td>[data, encrypted, device, access, apps]</td>\n",
       "    </tr>\n",
       "    <tr>\n",
       "      <th>2</th>\n",
       "      <td>In the final three months of 2018, the economy...</td>\n",
       "      <td>In the final three months of 2018, the economy...</td>\n",
       "      <td>In the final three months of 2018, the economy...</td>\n",
       "      <td>business</td>\n",
       "      <td>[eurozone, said, economic, data, economy]</td>\n",
       "    </tr>\n",
       "    <tr>\n",
       "      <th>3</th>\n",
       "      <td>That's the norm when it comes to Hollywood's b...</td>\n",
       "      <td>They've shared figures which reveal only 4% of...</td>\n",
       "      <td>That's the norm when it comes to Hollywood's b...</td>\n",
       "      <td>entertainment</td>\n",
       "      <td>[bfi, film, directed, event, screened]</td>\n",
       "    </tr>\n",
       "  </tbody>\n",
       "</table>\n",
       "</div>"
      ],
      "text/plain": [
       "                                               Title  \\\n",
       "0                            Holy recasting, Batman!   \n",
       "1  Facebook said participating teens had provided...   \n",
       "2  In the final three months of 2018, the economy...   \n",
       "3  That's the norm when it comes to Hollywood's b...   \n",
       "\n",
       "                                             Summary  \\\n",
       "0  Affleck had been due to direct as well as star...   \n",
       "1  It has also emerged that Google ran a similar ...   \n",
       "2  In the final three months of 2018, the economy...   \n",
       "3  They've shared figures which reveal only 4% of...   \n",
       "\n",
       "                                                Text       Category  \\\n",
       "0  Holy recasting, Batman! The search is on for a...  entertainment   \n",
       "1  Facebook said participating teens had provided...           tech   \n",
       "2  In the final three months of 2018, the economy...       business   \n",
       "3  That's the norm when it comes to Hollywood's b...  entertainment   \n",
       "\n",
       "                                        Tags  \n",
       "0       [upcoming, star, sequel, 1960s, tim]  \n",
       "1    [data, encrypted, device, access, apps]  \n",
       "2  [eurozone, said, economic, data, economy]  \n",
       "3     [bfi, film, directed, event, screened]  "
      ]
     },
     "metadata": {},
     "output_type": "display_data"
    }
   ],
   "source": [
    "# Add to database\n",
    "articleDB.loc[len(articleDB.index)] = [sent_list[0].rstrip('.'),\n",
    "                                       ''.join(summary),\n",
    "                                       article,\n",
    "                                      cat,\n",
    "                                      mostAtt_words]\n",
    "display(articleDB)"
   ]
  },
  {
   "cell_type": "code",
   "execution_count": null,
   "metadata": {},
   "outputs": [],
   "source": []
  }
 ],
 "metadata": {
  "kernelspec": {
   "display_name": "Python 3",
   "language": "python",
   "name": "python3"
  },
  "language_info": {
   "codemirror_mode": {
    "name": "ipython",
    "version": 3
   },
   "file_extension": ".py",
   "mimetype": "text/x-python",
   "name": "python",
   "nbconvert_exporter": "python",
   "pygments_lexer": "ipython3",
   "version": "3.7.0"
  }
 },
 "nbformat": 4,
 "nbformat_minor": 2
}
